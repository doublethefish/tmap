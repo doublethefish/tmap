{
 "cells": [
  {
   "cell_type": "code",
   "execution_count": 1,
   "metadata": {},
   "outputs": [],
   "source": [
    "import pandas as pd\n",
    "import tmap as tm\n",
    "from mhfp.encoder import MHFPEncoder\n",
    "from faerun import Faerun"
   ]
  },
  {
   "cell_type": "code",
   "execution_count": 2,
   "metadata": {},
   "outputs": [],
   "source": [
    "# Loading data from:\n",
    "# PUBCHEM_BIOASSAY: Navigating the Kinome.\n",
    "# (https://www.ebi.ac.uk/chembl/assay_report_card/CHEMBL1963834/)\n",
    "df = pd.read_csv(\"CHEMBL25-chembl_activity-X98QJiCI4eAUAQSKQevT44ZjymoCjs8alCsnJir8aUU=.csv.gz\", sep=\";\")"
   ]
  },
  {
   "cell_type": "code",
   "execution_count": 4,
   "metadata": {
    "scrolled": false
   },
   "outputs": [
    {
     "data": {
      "text/html": [
       "\n",
       "        <iframe\n",
       "            width=\"100%\"\n",
       "            height=\"750\"\n",
       "            src=\"./index.html\"\n",
       "            frameborder=\"0\"\n",
       "            allowfullscreen\n",
       "        ></iframe>\n",
       "        "
      ],
      "text/plain": [
       "<IPython.lib.display.IFrame at 0x7fdbe367ee48>"
      ]
     },
     "metadata": {},
     "output_type": "display_data"
    },
    {
     "data": {
      "text/html": [
       "<a href='./index.html' target='_blank'>./index.html</a><br>"
      ],
      "text/plain": [
       "/home/daenu/Code/tmap/tmap/examples/notebook/index.html"
      ]
     },
     "metadata": {},
     "output_type": "display_data"
    }
   ],
   "source": [
    "# The number of permutations used by the MinHashing algorithm\n",
    "perm = 512\n",
    "\n",
    "# Initializing the MHFP encoder with 512 permutations\n",
    "enc = MHFPEncoder(perm)\n",
    "\n",
    "# Initialize the LSH Forest\n",
    "lf = tm.LSHForest(perm)\n",
    "\n",
    "# Create MHFP fingerprints from SMILES\n",
    "# The fingerprint vectors have to be of the tm.VectorUint data type\n",
    "fingerprints = [tm.VectorUint(enc.encode(s)) for s in df[\"Smiles\"]]\n",
    "\n",
    "# Add the Fingerprints to the LSH Forest and index\n",
    "lf.batch_add(fingerprints)\n",
    "lf.index()\n",
    "\n",
    "# Get the coordinates\n",
    "x, y, s, t, _ = tm.layout_from_lsh_forest(lf)\n",
    "\n",
    "# Let's color by active / inactive, which is set in the \"Comments\" field\n",
    "# of the dataframe\n",
    "active = [1 if a == \"active\" else 0 for a in df[\"Comment\"]]\n",
    "\n",
    "# Create the labels for SMILES with ID\n",
    "df[\"SmilesID\"] = df[\"Smiles\"] + '__' + df[\"Molecule ChEMBL ID\"]\n",
    "\n",
    "# Now plot the data\n",
    "faerun = Faerun(view=\"front\", coords=False)\n",
    "faerun.add_scatter(\n",
    "    \"Assay\",\n",
    "    {\"x\": x, \"y\": y, \"c\": [active, df[\"AlogP\"]], \"labels\": df[\"SmilesID\"]},\n",
    "    point_scale=5,\n",
    "    colormap=[\"tab10\", \"viridis\"],\n",
    "    has_legend=True,\n",
    "    categorical=[True, False],\n",
    "    legend_labels=[(0, \"Inactive\"), (1, \"Active\")],\n",
    "    series_title=[\"Activity\", \"ALogP\"],\n",
    "    ondblclick=\"window.open(`https://www.ebi.ac.uk/chembl/compound_report_card/${labels[1]}/`, '_blank');\"\n",
    ")\n",
    "faerun.add_tree(\"Assay_tree\", {\"from\": s, \"to\": t}, point_helper=\"Assay\")\n",
    "\n",
    "# Choose the \"smiles\" template to display structure on hover\n",
    "faerun.plot(template=\"smiles\", notebook_height=750)"
   ]
  },
  {
   "cell_type": "code",
   "execution_count": null,
   "metadata": {},
   "outputs": [],
   "source": []
  }
 ],
 "metadata": {
  "kernelspec": {
   "display_name": "Python 3",
   "language": "python",
   "name": "python3"
  },
  "language_info": {
   "codemirror_mode": {
    "name": "ipython",
    "version": 3
   },
   "file_extension": ".py",
   "mimetype": "text/x-python",
   "name": "python",
   "nbconvert_exporter": "python",
   "pygments_lexer": "ipython3",
   "version": "3.7.3"
  }
 },
 "nbformat": 4,
 "nbformat_minor": 2
}
